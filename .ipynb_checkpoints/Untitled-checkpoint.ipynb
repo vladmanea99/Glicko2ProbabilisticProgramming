{
 "cells": [
  {
   "cell_type": "code",
   "execution_count": 5,
   "id": "furnished-asbestos",
   "metadata": {},
   "outputs": [],
   "source": [
    "import numpy as np\n",
    "import matplotlib.pyplot as plt\n",
    "def g(RD):\n",
    "    return 1 / np.sqrt(1 + 3*(RD**2) / (np.pi**2))\n",
    "\n",
    "def g_deriv(RD):\n",
    "    return -3*np.pi*RD/(np.sqrt((3*RD**2 + np.pi**2)**3))\n",
    "\n",
    "X = np.arange(50, 350, 0.1)\n",
    "Y = g(X)\n",
    "\n",
    "Y_deriv = g_deriv(X)\n",
    "#plt.plot(X, Y)\n",
    "#plt.plot(X, Y_deriv)\n",
    "#plt.show()\n",
    "\n",
    "hema_calculated_rating = 1393.3\n",
    "hema_calculated_RD = 90.12713\n",
    "\n",
    "hema_showed_enemy_ratings = np.array([1425.3, 1242.2, 1355.1, 1500, 1048.7, 1263.7, 1935])\n",
    "real_enemy_RDs = np.array([155.282, 114.5564, 137.8928, 350, 164.419, 122.2674, 78.03616])\n",
    "#win = 1, lose = 0, draw = 0.5\n",
    "scores = [0, 1, 1, 1, 1, 1, 0]\n",
    "\n",
    "#Starting values for the fencer\n",
    "hema_showed_rating_prior_month= 1264.2\n",
    "real_RD = 106.3504\n",
    "real_rating = hema_showed_rating_prior_month + 2*real_RD\n",
    "volatility = 0.06\n",
    "\n",
    "\n",
    "\n",
    "'''The rating displayed on hema ratings is not the actual one. The guys use the following formula: \n",
    "hema_showed_rating = real_rating - 2 * RD\n",
    "this is because the hema_showed_rating has a 97.5% chance to be the exact rating according to the guys that created the website\n",
    "\n",
    "\n",
    "def map_to_real_ratings(hema_showed_rating, real_enemy_RDs):\n",
    "    return hema_showed_rating + real_enemy_RDs*2\n",
    "\n",
    "\n",
    "\n",
    "constant = 173.7178\n",
    "\n",
    "real_enemy_ratings = map_to_real_ratings(hema_showed_enemy_ratings, real_enemy_RDs)\n",
    "\n",
    "#Mapping real values to the ones used in the algorithm\n",
    "rating = (real_rating - 1500) / constant\n",
    "RD = real_RD / constant\n",
    "\n",
    "ratings = (real_enemy_ratings - 1500)/constant\n",
    "enemy_RDs = real_enemy_RDs/constant\n",
    "\n",
    "#The Algorithm starts here, for more check their documentation: http://www.glicko.net/glicko/glicko2.pdf\n",
    "#***********************************************************************************************************************\n",
    "v = 0\n",
    "for i in range(len(ratings)):\n",
    "    v += (g(enemy_RDs[i])**2)*E(rating, ratings[i], enemy_RDs[i])*(1 - E(rating, ratings[i], enemy_RDs[i]))\n",
    "\n",
    "v = 1/v\n",
    "\n",
    "'''\n",
    "def E(rating, rating_j, RD_j):\n",
    "    return 1 / (1 + np.exp(-g(RD_j)*(rating-rating_j)))\n",
    "\n"
   ]
  },
  {
   "cell_type": "code",
   "execution_count": 235,
   "id": "official-reynolds",
   "metadata": {},
   "outputs": [],
   "source": [
    "X = np.arange(0, 3, 0.01)\n",
    "Y = g(X)\n",
    "\n",
    "plt.plot(X, Y)\n",
    "\n",
    "plt.show()"
   ]
  },
  {
   "cell_type": "code",
   "execution_count": 220,
   "id": "foreign-attitude",
   "metadata": {},
   "outputs": [
    {
     "name": "stdout",
     "output_type": "stream",
     "text": [
      "0\n",
      "1000\n",
      "2000\n",
      "3000\n",
      "4000\n",
      "5000\n",
      "6000\n",
      "7000\n",
      "8000\n",
      "9000\n"
     ]
    }
   ],
   "source": [
    "n_sims = 10000\n",
    "matches = 20\n",
    "X = np.arange(0, n_sims, 1)\n",
    "Y = np.zeros((X.shape))\n",
    "deltas = np.zeros((X.shape))\n",
    "sim_RD = np.zeros((X.shape))\n",
    "sim_rating = np.zeros((X.shape))\n",
    "for j in range(len(X)):\n",
    "    enemy_RDs = np.random.normal(150, 50, matches)/173.7178\n",
    "    ratings = (np.random.normal(1300, 200, matches)-1500)/173.7178\n",
    "    \n",
    "    scores = np.random.binomial(1, 0.3, matches)\n",
    "    #rating = (np.random.normal(1300, 200, 1)-1500)/173.7178\n",
    "    #RD = np.random.normal(150, 50, 1)/173.7178\n",
    "    rating = 0\n",
    "    RD = 350/173.7178\n",
    "    for i in range(len(ratings)):\n",
    "        Y[j] += (g(enemy_RDs[i]) ** 2) * E(rating, ratings[i], enemy_RDs[i]) * (1 - E(rating, ratings[i], enemy_RDs[i]))\n",
    "    Y[j] = 1/Y[j]\n",
    "    for i in range(len(ratings)):\n",
    "        deltas[j] += g(enemy_RDs[i])*(scores[i] - E(rating, ratings[i], enemy_RDs[i]))\n",
    "    deltas[j] *= Y[j]\n",
    "    sim_RD[j] = np.sqrt(RD**2 + volatility**2)\n",
    "    sim_RD[j] = 1 / np.sqrt(1/(sim_RD[j]**2) + 1/Y[j])\n",
    "    sum = 0\n",
    "    for i in range(matches):\n",
    "        sum += g(enemy_RDs[i])*(scores[i] - E(rating, ratings[i], enemy_RDs[i]))\n",
    "    sim_rating[j] = rating + sim_RD[j]**2*sum\n",
    "    if j % 1000 == 0:\n",
    "        print(j)\n",
    "    "
   ]
  },
  {
   "cell_type": "code",
   "execution_count": null,
   "id": "above-margin",
   "metadata": {},
   "outputs": [],
   "source": []
  },
  {
   "cell_type": "code",
   "execution_count": null,
   "id": "chief-basement",
   "metadata": {},
   "outputs": [],
   "source": []
  },
  {
   "cell_type": "code",
   "execution_count": 221,
   "id": "smoking-humanitarian",
   "metadata": {},
   "outputs": [],
   "source": [
    "\n",
    "plt.plot(X, Y)\n",
    "plt.show()"
   ]
  },
  {
   "cell_type": "code",
   "execution_count": 222,
   "id": "novel-punch",
   "metadata": {},
   "outputs": [],
   "source": [
    "plt.plot(X, deltas)\n",
    "plt.show()"
   ]
  },
  {
   "cell_type": "code",
   "execution_count": 223,
   "id": "planned-honor",
   "metadata": {},
   "outputs": [],
   "source": [
    "import PyQt5\n",
    "%matplotlib qt\n",
    "fig, ax = plt.subplots()\n",
    "\n",
    "ax.hist(Y, bins=100)\n",
    "\n",
    "ax.set(xlim=(0.25, 0.5), xticks=np.linspace(0.25, 0.5, 9),\n",
    "       ylim=(0, 500), yticks=np.linspace(0, 500, 11))\n",
    "#plt.hist(Y, xlim=(0, 0.0010))\n",
    "\n",
    "plt.show()"
   ]
  },
  {
   "cell_type": "code",
   "execution_count": 224,
   "id": "external-exchange",
   "metadata": {},
   "outputs": [],
   "source": [
    "fig, ax = plt.subplots()\n",
    "\n",
    "ax.hist(deltas, bins=100)\n",
    "\n",
    "ax.set(xlim=(-5, 3), xticks=np.linspace(-5, 3, 7),\n",
    "       ylim=(0, 500), yticks=np.linspace(0, 500, 11))\n",
    "#plt.hist(Y, xlim=(0, 0.0010))\n",
    "\n",
    "plt.show()"
   ]
  },
  {
   "cell_type": "code",
   "execution_count": 225,
   "id": "spiritual-render",
   "metadata": {},
   "outputs": [],
   "source": [
    "plt.plot(X, sim_RD)\n",
    "plt.show()"
   ]
  },
  {
   "cell_type": "code",
   "execution_count": 226,
   "id": "processed-xerox",
   "metadata": {},
   "outputs": [],
   "source": [
    "plt.plot(X, sim_rating)\n",
    "plt.show()"
   ]
  },
  {
   "cell_type": "code",
   "execution_count": 227,
   "id": "supported-scott",
   "metadata": {},
   "outputs": [],
   "source": [
    "plt.plot(X, sim_rating*173.7178 + 1500)\n",
    "plt.show()"
   ]
  },
  {
   "cell_type": "code",
   "execution_count": 228,
   "id": "narrative-northeast",
   "metadata": {},
   "outputs": [],
   "source": [
    "fig, ax = plt.subplots()\n",
    "\n",
    "ax.hist(sim_RD, bins=100)\n",
    "\n",
    "ax.set(xlim=(0.4, 0.8), xticks=np.linspace(0.4, 0.8, 11),\n",
    "       ylim=(0, 400), yticks=np.linspace(0, 400, 11))\n",
    "#plt.hist(Y, xlim=(0, 0.0010))\n",
    "\n",
    "plt.show()"
   ]
  },
  {
   "cell_type": "code",
   "execution_count": 229,
   "id": "nearby-bidder",
   "metadata": {},
   "outputs": [],
   "source": [
    "fig, ax = plt.subplots()\n",
    "\n",
    "ax.hist(sim_RD*173.7178, bins=100)\n",
    "\n",
    "ax.set(xlim=(0, 250), xticks=np.linspace(0, 250, 12),\n",
    "       ylim=(0, 300), yticks=np.linspace(0, 300, 11))\n",
    "#plt.hist(Y, xlim=(0, 0.0010))\n",
    "\n",
    "plt.show()"
   ]
  },
  {
   "cell_type": "code",
   "execution_count": 179,
   "id": "elegant-pursuit",
   "metadata": {},
   "outputs": [],
   "source": [
    "fig, ax = plt.subplots()\n",
    "\n",
    "ax.hist(sim_rating, bins=100)\n",
    "\n",
    "ax.set(xlim=(-15, 2.5), xticks=np.linspace(-15, 2.5, 8),\n",
    "       ylim=(0, 600), yticks=np.linspace(0, 600, 11))\n",
    "#plt.hist(Y, xlim=(0, 0.0010))\n",
    "\n",
    "plt.show()"
   ]
  },
  {
   "cell_type": "code",
   "execution_count": 230,
   "id": "north-temperature",
   "metadata": {},
   "outputs": [],
   "source": [
    "fig, ax = plt.subplots()\n",
    "\n",
    "ax.hist(sim_rating*173.7178 + 1500, bins=100)\n",
    "\n",
    "ax.set(xlim=(0, 2000), xticks=np.linspace(0, 2000, 16),\n",
    "       ylim=(0, 600), yticks=np.linspace(0, 600, 11))\n",
    "#plt.hist(Y, xlim=(0, 0.0010))\n",
    "\n",
    "plt.show()"
   ]
  },
  {
   "cell_type": "code",
   "execution_count": 26,
   "id": "social-grammar",
   "metadata": {},
   "outputs": [
    {
     "data": {
      "image/png": "[encoded data removed]",
      "text/plain": [
       "<Figure size 432x288 with 1 Axes>"
      ]
     },
     "metadata": {
      "needs_background": "light"
     },
     "output_type": "display_data"
    }
   ],
   "source": [
    "plt.hist(Y)\n",
    "plt.show()"
   ]
  },
  {
   "cell_type": "code",
   "execution_count": 63,
   "id": "polished-debate",
   "metadata": {},
   "outputs": [
    {
     "name": "stdout",
     "output_type": "stream",
     "text": [
      "[0 0 0 1 1 0 1 0 0 0 0 1 0 0 0 0 1 0 1 1 0 0 0 0 1 1 0 0 1 0]\n"
     ]
    }
   ],
   "source": []
  },
  {
   "cell_type": "code",
   "execution_count": null,
   "id": "disabled-landing",
   "metadata": {},
   "outputs": [],
   "source": []
  }
 ],
 "metadata": {
  "kernelspec": {
   "display_name": "Python 3",
   "language": "python",
   "name": "python3"
  },
  "language_info": {
   "codemirror_mode": {
    "name": "ipython",
    "version": 3
   },
   "file_extension": ".py",
   "mimetype": "text/x-python",
   "name": "python",
   "nbconvert_exporter": "python",
   "pygments_lexer": "ipython3",
   "version": "3.7.4"
  }
 },
 "nbformat": 4,
 "nbformat_minor": 5
}
